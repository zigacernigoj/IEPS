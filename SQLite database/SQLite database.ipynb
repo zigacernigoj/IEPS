{
 "cells": [
  {
   "cell_type": "markdown",
   "metadata": {},
   "source": [
    "# SQLite database management\n",
    "\n",
    "To use these notebook, please install the *sqlite3* dependency. If you use Anaconda Python distribution, issue:\n",
    "\n",
    "```\n",
    "conda install sqlite3\n",
    "```"
   ]
  },
  {
   "cell_type": "markdown",
   "metadata": {},
   "source": [
    "## SQLite in Python"
   ]
  },
  {
   "cell_type": "markdown",
   "metadata": {},
   "source": [
    "SQLite is an open source, zero-configuration, self-contained, stand-alone, transaction relational database engine designed to be embedded into an application. Good source of information about the use of the database is available at [http://www.sqlitetutorial.net/](http://www.sqlitetutorial.net/).\n",
    "\n",
    "Also check the [documentation of the sqlite3 package](https://docs.python.org/3/library/sqlite3.html) which we are using from Python.\n",
    "\n",
    "First we will create the database if does not exist and connect to it. The database file will be created in the directory path provided to the *connect* function."
   ]
  },
  {
   "cell_type": "code",
   "execution_count": null,
   "metadata": {},
   "outputs": [],
   "source": [
    "import sqlite3\n",
    "conn = sqlite3.connect('inverted-index.db')"
   ]
  },
  {
   "cell_type": "markdown",
   "metadata": {},
   "source": [
    "### Creating tables\n",
    "\n",
    "Let's create tables that we will use for our third programming assignment."
   ]
  },
  {
   "cell_type": "code",
   "execution_count": null,
   "metadata": {},
   "outputs": [],
   "source": [
    "# Create table\n",
    "c = conn.cursor()\n",
    "\n",
    "c.execute('''\n",
    "    CREATE TABLE IndexWord (\n",
    "        word TEXT PRIMARY KEY\n",
    "    );\n",
    "''')\n",
    "\n",
    "c.execute('''\n",
    "    CREATE TABLE Posting (\n",
    "        word TEXT NOT NULL,\n",
    "        documentName TEXT NOT NULL,\n",
    "        frequency INTEGER NOT NULL,\n",
    "        indexes TEXT NOT NULL,\n",
    "        PRIMARY KEY(word, documentName),\n",
    "        FOREIGN KEY (word) REFERENCES IndexWord(word)\n",
    "    );\n",
    "''')\n",
    "\n",
    "# Save (commit) the changes\n",
    "conn.commit()\n",
    "\n",
    "# We can also close the connection if we are done with it.\n",
    "# Just be sure any changes have been committed or they will be lost.\n",
    "# conn.close()"
   ]
  },
  {
   "cell_type": "markdown",
   "metadata": {},
   "source": [
    "### Inserting data\n",
    "\n",
    "Let's insert some data into the database."
   ]
  },
  {
   "cell_type": "code",
   "execution_count": null,
   "metadata": {},
   "outputs": [],
   "source": [
    "c.execute('''\n",
    "    INSERT INTO IndexWord VALUES \n",
    "        ('Spar'),\n",
    "        ('Mercator'), \n",
    "        ('Tuš');\n",
    "''')\n",
    "\n",
    "c.execute('''\n",
    "    INSERT INTO Posting VALUES \n",
    "        ('Spar', 'spar.si/info.html', 1, '92'),\n",
    "        ('Mercator', 'mercator.si/prodaja.html', 3, '4,12,55'), \n",
    "        ('Mercator', 'tus.si/index.html', 1, '18'),\n",
    "        ('Tuš', 'mercator.si/prodaja.html', 1, '42');\n",
    "''')\n",
    "\n",
    "# Save (commit) the changes\n",
    "conn.commit()"
   ]
  },
  {
   "cell_type": "markdown",
   "metadata": {},
   "source": [
    "### Selecting data\n",
    "\n",
    "Let's check, what is in the database."
   ]
  },
  {
   "cell_type": "code",
   "execution_count": null,
   "metadata": {},
   "outputs": [],
   "source": [
    "print(\"Selecting all the data from the Posting table:\")\n",
    "\n",
    "for row in c.execute(\"SELECT * FROM Posting p\"):\n",
    "    print(\"\\t\", row)"
   ]
  },
  {
   "cell_type": "code",
   "execution_count": null,
   "metadata": {},
   "outputs": [],
   "source": [
    "print(\"Get all documents that contain 'Tuš' or 'Mercator'.\")\n",
    "\n",
    "cursor = c.execute('''\n",
    "    SELECT p.documentName AS docName, SUM(frequency) AS freq, GROUP_CONCAT(indexes) AS idxs\n",
    "    FROM Posting p\n",
    "    WHERE\n",
    "        p.word IN ('Tuš', 'Mercator')\n",
    "    GROUP BY p.documentName\n",
    "    ORDER BY freq DESC;\n",
    "''')\n",
    "\n",
    "for row in cursor:\n",
    "    print(\"\\tHits: %d\\n\\t\\tDoc: '%s'\\n\\t\\tIndexes: %s\" % (row[1], row[0], row[2]))"
   ]
  },
  {
   "cell_type": "code",
   "execution_count": null,
   "metadata": {},
   "outputs": [],
   "source": [
    "# You should close the connection when stopped using the database.\n",
    "conn.close()"
   ]
  },
  {
   "cell_type": "markdown",
   "metadata": {},
   "source": [
    "## Standalone SQLite tools\n",
    "\n",
    "Nice and lightweight GUI software to create, open or manage SQLite databases is [DB Browser for SQLite](https://sqlitebrowser.org/). It is available for multiple operating systems.\n",
    "\n",
    "![Screenshot](screenshot.png)"
   ]
  }
 ],
 "metadata": {
  "kernelspec": {
   "display_name": "Python 3",
   "language": "python",
   "name": "python3"
  },
  "language_info": {
   "codemirror_mode": {
    "name": "ipython",
    "version": 3
   },
   "file_extension": ".py",
   "mimetype": "text/x-python",
   "name": "python",
   "nbconvert_exporter": "python",
   "pygments_lexer": "ipython3",
   "version": "3.7.3"
  }
 },
 "nbformat": 4,
 "nbformat_minor": 1
}
