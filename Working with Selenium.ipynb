{
 "cells": [
  {
   "cell_type": "markdown",
   "metadata": {},
   "source": [
    "# Working with Selenium\n",
    "---\n",
    "**Author**: Marko Bajec\n",
    "\n",
    "**Last update**: 5.3.2019\n",
    "\n",
    "**Description**: the library <code>Selenium</code> \n",
    "\n",
    "This notebook shows few examples of using <code>Selenium</code> for starting <code>Chrome</code> or <code>Firefox</code> in a *headless mode* and then retreiving sources of web pages as they would be rendered in a browser. \n",
    "\n",
    "**Official web page:** https://selenium-python.readthedocs.io. \n",
    "\n",
    "---\n",
    "### Using Chrome to retreive and navigate through a web page\n",
    "In this example Chrome is started (in headless mode). Then, the content of **UL FRI** web page (http://fri.uni-lj.si/) is fetched and checked for last news. If there are any, their titles are printed out."
   ]
  },
  {
   "cell_type": "code",
   "execution_count": null,
   "metadata": {},
   "outputs": [],
   "source": [
    "import os  \n",
    "from selenium import webdriver  \n",
    "from selenium.webdriver.common.keys import Keys  \n",
    "from selenium.webdriver.chrome.options import Options  \n",
    "\n",
    "options = Options()  \n",
    "options.add_argument(\"--headless\")  \n",
    "options.binary_location = '/Applications/Google Chrome.app/Contents/MacOS/Google Chrome'\n",
    "\n",
    "driver = webdriver.Chrome(executable_path=os.path.abspath('chromedriver'), options=options)  \n",
    "driver.get(\"http://fri.uni-lj.si\")  \n",
    "\n",
    "for n in driver.find_elements_by_class_name('news-container-title'):\n",
    "    if len(n.text)>0:\n",
    "        print(n.text)\n",
    " \n",
    "driver.close() "
   ]
  },
  {
   "cell_type": "markdown",
   "metadata": {},
   "source": [
    "### Example with Firefox\n",
    "#### Check Python webpage\n",
    "Here we start Firefox with GUI, we jump tu www.python.org and check if the page has opened (with assertion <code>Python in driver.title</code>). If all ok, we find element by name <code>q<code> which represents a **search field** in the source page. We enter \"pycon\" and observe if resulting page is not empty (with asserion, <code>\"No results found.\" not in driver.page_source</code>. "
   ]
  },
  {
   "cell_type": "code",
   "execution_count": null,
   "metadata": {},
   "outputs": [],
   "source": [
    "from selenium import webdriver\n",
    "from selenium.webdriver.common.keys import Keys\n",
    "\n",
    "driver = webdriver.Firefox()\n",
    "driver.get(\"http://www.python.org\")\n",
    "assert \"Python\" in driver.title\n",
    "elem = driver.find_element_by_name(\"q\")\n",
    "elem.clear()\n",
    "elem.send_keys(\"pycon\")\n",
    "elem.send_keys(Keys.RETURN)\n",
    "assert \"No results found.\" not in driver.page_source\n",
    "#print(driver.page_source)\n",
    "driver.close()\n",
    "print('all ok')"
   ]
  },
  {
   "cell_type": "markdown",
   "metadata": {},
   "source": [
    "#### Extract new movies from YiFi\n",
    "In this example we use <code>Selenium</code> library to access web content on [YiFi Movies](https://yts.am/) web page. We check for new movies and print out titles of movies with ratings higher than 7.0.\n",
    "\n",
    "**Disclaimer**: note that the legality of the Yifi webpage is not of our concern."
   ]
  },
  {
   "cell_type": "code",
   "execution_count": null,
   "metadata": {},
   "outputs": [],
   "source": [
    "from selenium import webdriver\n",
    "from selenium.webdriver.common.keys import Keys\n",
    "from selenium.webdriver.firefox.options import Options\n",
    "\n",
    "options = Options()\n",
    "options.headless = True\n",
    "driver = webdriver.Firefox(options=options)\n",
    "\n",
    "try:\n",
    "    driver.get(\"https://yts.am/\")\n",
    "    \n",
    "    #get all parts of HTML that contain information on titles, genres, years... \n",
    "    elems = driver.find_elements_by_xpath('//div[contains(@class, \"browse-movie-wrap\")]')\n",
    "\n",
    "    for elem in elems:\n",
    "        #some parts doesn't have ratings - check and continue only if there is a rating \n",
    "        ratings = elem.find_elements_by_class_name('rating')\n",
    "        if len(ratings)==1:\n",
    "            #capture the rating and if it is 7 or more, print the movie title, year and rating \n",
    "            #rating comes in the following form: \"X / 10\" where X is the rating. \n",
    "            rating = float(elem.find_element_by_class_name('rating').get_attribute('innerText').split('/')[0])\n",
    "            if rating >= 7.0:\n",
    "                print(elem.find_element_by_class_name('browse-movie-title').text)\n",
    "                print(elem.find_element_by_class_name('browse-movie-year').text)\n",
    "                print(rating)\n",
    "\n",
    "    driver.quit()\n",
    "    \n",
    "except:\n",
    "    driver.quit()\n",
    "    raise"
   ]
  },
  {
   "cell_type": "markdown",
   "metadata": {},
   "source": [
    "#### Check if movie available\n",
    "In this example we use <code>Selenium</code> library to check if a certain movie is available in **YiFi database**. If exists, its synopsis will be printed out, otherwise a messege \"MOVIE NOT YET AVAILABLE\" is printed."
   ]
  },
  {
   "cell_type": "code",
   "execution_count": null,
   "metadata": {},
   "outputs": [],
   "source": [
    "from selenium import webdriver\n",
    "from selenium.webdriver.common.keys import Keys\n",
    "from selenium.webdriver.firefox.options import Options\n",
    "from selenium.webdriver.common.by import By\n",
    "from selenium.webdriver.support.ui import WebDriverWait\n",
    "from selenium.webdriver.support import expected_conditions as EC\n",
    "from selenium.common.exceptions import TimeoutException\n",
    "\n",
    "options = Options()\n",
    "options.headless = True\n",
    "driver = webdriver.Firefox(options=options)\n",
    "\n",
    "try:\n",
    "    driver.get(\"https://yts.am/\")\n",
    "    \n",
    "    #get search input element and enter \"Green book\"\n",
    "    searchinput = driver.find_element_by_id('quick-search-input')\n",
    "    searchinput.clear()\n",
    "    searchinput.send_keys(\"Green Book\")    \n",
    "    \n",
    "    #when text is entered in the search field, the movie title appears as a hover over the search field\n",
    "    #if the movie is found in the database. We have to wait until this happens. If it doesn't it means\n",
    "    #the movie is not available\n",
    "    element = WebDriverWait(driver, 2).until(\n",
    "        EC.presence_of_element_located((By.XPATH, './/li[contains(@class, \"ac-item-hover\")]')))\n",
    "    \n",
    "    #when hover appears, we click on it which opens new page with details on the Green Book movie\n",
    "    #we print out the movie Synopsis\n",
    "    \n",
    "    element.find_element_by_tag_name('a').click()\n",
    "    print('MOVIE FOUND!')\n",
    "    print(driver.find_element_by_id('synopsis').text)\n",
    "\n",
    "    driver.quit()\n",
    "    \n",
    "except TimeoutException:\n",
    "    driver.quit()\n",
    "    print('MOVIE NOT YET AVAILABLE!')\n",
    "    pass\n",
    "except:\n",
    "    driver.quit()\n",
    "    raise"
   ]
  },
  {
   "cell_type": "code",
   "execution_count": null,
   "metadata": {},
   "outputs": [],
   "source": []
  },
  {
   "cell_type": "code",
   "execution_count": null,
   "metadata": {},
   "outputs": [],
   "source": []
  }
 ],
 "metadata": {
  "kernelspec": {
   "display_name": "Python 3",
   "language": "python",
   "name": "python3"
  },
  "language_info": {
   "codemirror_mode": {
    "name": "ipython",
    "version": 3
   },
   "file_extension": ".py",
   "mimetype": "text/x-python",
   "name": "python",
   "nbconvert_exporter": "python",
   "pygments_lexer": "ipython3",
   "version": "3.7.2"
  }
 },
 "nbformat": 4,
 "nbformat_minor": 2
}
