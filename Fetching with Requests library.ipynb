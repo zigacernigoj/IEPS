{
 "cells": [
  {
   "cell_type": "markdown",
   "metadata": {},
   "source": [
    "# Using library Requests\n",
    "---\n",
    "**Author**: Marko Bajec\n",
    "\n",
    "**Last update**: 24.2.2019\n",
    "\n",
    "**Description**: the library <code>Requests</code> is a high-level HTTP library for Python. It can be easily used for fetching, as it support many useful features, such as *Keep-Alive & Connection Pooling*, *Sessions with Cookie Persistence*, *Proxy Handling*, *Connection Timeouts*, etc. \n",
    "\n",
    "This notebook shows few examples of using <code>Request</code> for fetching pages. \n",
    "\n",
    "**Official web page:** http://docs.python-requests.org/. For more details check [here](http://www.python-requests.org/en/latest/api/#classes).\n",
    "\n",
    "---"
   ]
  },
  {
   "cell_type": "code",
   "execution_count": null,
   "metadata": {},
   "outputs": [],
   "source": [
    "import requests\n",
    "# url samples\n",
    "url1 = 'http://github.com'\n",
    "url2 = 'http://www.times.si'\n",
    "url3 = 'http://www.delo.si'\n",
    "url4 = 'http://dev.vitabits.org'\n",
    "url5 = 'http://en.knu.ac.kr/main/main.htm'"
   ]
  },
  {
   "cell_type": "markdown",
   "metadata": {},
   "source": [
    "### Simple fetch using http GET request"
   ]
  },
  {
   "cell_type": "code",
   "execution_count": null,
   "metadata": {},
   "outputs": [],
   "source": [
    "response = requests.get(url2)\n",
    "print('status code:', response.status_code)\n",
    "print('url:', response.url)\n",
    "print('content:', response.text)"
   ]
  },
  {
   "cell_type": "markdown",
   "metadata": {},
   "source": [
    "### Identifying redirections"
   ]
  },
  {
   "cell_type": "code",
   "execution_count": null,
   "metadata": {},
   "outputs": [],
   "source": [
    "response = requests.get(url4, verify=False, allow_redirects=True, timeout=50)\n",
    "print('status code:', response.status_code)\n",
    "print('starting url:', url4)\n",
    "print('ending url:', response.url)\n",
    "print('history:', response.history)\n",
    "print('headers:', response.headers)\n",
    "# note the attribute history. If not empty, it tells what had happened before we got to the last URL, \n",
    "# in our case https://www.delo.si/. Remember that we called unsecure http//www.delo.si and not https://www.delo.si"
   ]
  },
  {
   "cell_type": "markdown",
   "metadata": {},
   "source": [
    "### Blocking redirections"
   ]
  },
  {
   "cell_type": "code",
   "execution_count": null,
   "metadata": {},
   "outputs": [],
   "source": [
    "response = requests.get(url3, verify=False, allow_redirects=False, timeout=50)\n",
    "print('status code:', response.status_code)\n",
    "print('url:', response.url)\n",
    "print('history:', response.history)\n",
    "print('headers:', response.headers)"
   ]
  },
  {
   "cell_type": "markdown",
   "metadata": {},
   "source": [
    "### http HEAD request"
   ]
  },
  {
   "cell_type": "code",
   "execution_count": null,
   "metadata": {},
   "outputs": [],
   "source": [
    "response = requests.head(url2)\n",
    "print('status code:', response.status_code)\n",
    "print('url:', response.url)\n",
    "print('headers:', response.headers)\n",
    "print('text:', response.text)\n",
    "# note that since we made http HEAD request, the response.text attribute is empty. "
   ]
  },
  {
   "cell_type": "markdown",
   "metadata": {},
   "source": [
    "### Handling exceptions\n",
    "**Error and exception handling** is of utter importance for crawlers that need to be robust in order to visit a large portion of the web. <code>Requests</code> lib can catch several types of exceptions.  "
   ]
  },
  {
   "cell_type": "code",
   "execution_count": null,
   "metadata": {},
   "outputs": [],
   "source": [
    "try:\n",
    "    response = requests.get(url5, timeout=1)\n",
    "    print(response.url)\n",
    "    print(response.status_code)\n",
    "except requests.HTTPError:\n",
    "    print('An HTTP error occurred.')\n",
    "except requests.ConnectionError:\n",
    "    print('A Connection error occurred.')\n",
    "except requests.URLRequired:\n",
    "    print('A valid URL is required to make a request.')\n",
    "except requests.TooManyRedirects:\n",
    "    print('Too many redirects.')\n",
    "except requests.ConnectTimeout:\n",
    "    print('The request timed out while trying to connect to the remote server.')\n",
    "except requests.ReadTimeout:\n",
    "    print('The server did not send any data in the allotted amount of time.')\n",
    "except requests.Timeout:\n",
    "    print('The request timed out.')\n",
    "except requests.RequestException as e:\n",
    "    print(e)\n",
    "except:\n",
    "    print('Unknown error occured!')\n",
    "    raise"
   ]
  },
  {
   "cell_type": "markdown",
   "metadata": {},
   "source": [
    "### Basic authentication\n",
    "<code>HTTP Basic Auth</code> is very common authentication mechanism for web services. <code>Requests</code> supports it straight out of the box."
   ]
  },
  {
   "cell_type": "code",
   "execution_count": null,
   "metadata": {},
   "outputs": [],
   "source": [
    "response = requests.get('https://api.github.com/user', auth=('enter username here', 'enter password here'))\n",
    "print(response.url)\n",
    "print(response.status_code)"
   ]
  },
  {
   "cell_type": "code",
   "execution_count": null,
   "metadata": {},
   "outputs": [],
   "source": [
    "url = 'https://moji.kd-skladi.net/#/index'\n",
    "response = requests.get(url, allow_redirects=False, auth=('enter username here', 'enter password here'))\n",
    "print(response.url)\n",
    "print(response.status_code)\n",
    "print(response.headers)\n",
    "print(response.text)"
   ]
  },
  {
   "cell_type": "code",
   "execution_count": null,
   "metadata": {},
   "outputs": [],
   "source": []
  }
 ],
 "metadata": {
  "kernelspec": {
   "display_name": "Python 3",
   "language": "python",
   "name": "python3"
  },
  "language_info": {
   "codemirror_mode": {
    "name": "ipython",
    "version": 3
   },
   "file_extension": ".py",
   "mimetype": "text/x-python",
   "name": "python",
   "nbconvert_exporter": "python",
   "pygments_lexer": "ipython3",
   "version": "3.7.2"
  }
 },
 "nbformat": 4,
 "nbformat_minor": 2
}
