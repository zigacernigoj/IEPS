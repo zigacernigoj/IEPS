{
 "cells": [
  {
   "cell_type": "markdown",
   "metadata": {},
   "source": [
    "# Regular expressions and XPath\n",
    "\n",
    "To use these notebook, please install the dependencies *requests* and *lxml*. If you use Anaconda Python distribution, then issue:\n",
    "\n",
    "```\n",
    "conda install requests\n",
    "conda install lxml\n",
    "```"
   ]
  },
  {
   "cell_type": "markdown",
   "metadata": {},
   "source": [
    "## Web page example"
   ]
  },
  {
   "cell_type": "markdown",
   "metadata": {},
   "source": [
    "Let's try to extract some data from the example Web page below. We are interested into extraction of the title, the image url and the date (data within red rectangles):\n",
    "\n",
    "![An example web page](webpage.png)"
   ]
  },
  {
   "cell_type": "code",
   "execution_count": null,
   "metadata": {},
   "outputs": [],
   "source": [
    "# Import libraries\n",
    "import requests\n",
    "\n",
    "# Example of loading of a live web page (try if it works - it worked on April 9, 2019)\n",
    "\"\"\"\n",
    "pageContent=requests.get(\n",
    "     'https://www.avto-magazin.si/novice/odkrivamo/razkrivamo-volkswagen-golf-8-prihaja-naslednje-leto-namesto-letos/'\n",
    ")\n",
    "pageContent = pageContent.content\n",
    "\"\"\"\n",
    "\n",
    "# We rather use the locally-cached file as it may have changed online.\n",
    "pageContent = open('Golf8.html', 'r').read()\n",
    "print(\"Page content:\\n'%s'.\" % pageContent)"
   ]
  },
  {
   "cell_type": "markdown",
   "metadata": {},
   "source": [
    "## Regular expressions\n",
    "\n",
    "One of the standardized ways to extract structured information from text is the use of regular expressions. To get familiar with the regular expressions, follow a tutorial at [RegexOne](https://regexone.com/) or go through explanations at [Regular-Expressions.info](http://www.regular-expressions.info/). \n",
    "\n",
    "While you learn and also when you want to test some regular expression examples against some text, you can help yourself using tools such as [Regex101](https://regex101.com/).\n",
    "\n",
    "### Regular expressions in Python\n",
    "Let's try some regular expressions in Python."
   ]
  },
  {
   "cell_type": "code",
   "execution_count": null,
   "metadata": {},
   "outputs": [],
   "source": [
    "# Import libraries\n",
    "import re"
   ]
  },
  {
   "cell_type": "code",
   "execution_count": null,
   "metadata": {},
   "outputs": [],
   "source": [
    "text = \"\"\"Mr. Swensen, 62, runs the school’s $25.4 billion endowment, one of the largest in the country. \n",
    "Since November 1 2016 he is joined by his intellectual sparring partner, Mr. Dean Takahashi, his senior director.\"\"\""
   ]
  },
  {
   "cell_type": "code",
   "execution_count": null,
   "metadata": {},
   "outputs": [],
   "source": [
    "regex = \"Mr. (\\w+)\"\n",
    "\n",
    "# Find a person\n",
    "personPattern = re.compile(regex)\n",
    "match = personPattern.search(text)\n",
    "print(\"Found person: '{}'.\".format( match.group(1) ))"
   ]
  },
  {
   "cell_type": "code",
   "execution_count": null,
   "metadata": {},
   "outputs": [],
   "source": [
    "# Find all persons\n",
    "matches = re.finditer(regex, text)\n",
    "for match in matches:\n",
    "    print(\"Found person: '{}'.\".format( match.group(1) ))"
   ]
  },
  {
   "cell_type": "code",
   "execution_count": null,
   "metadata": {
    "scrolled": true
   },
   "outputs": [],
   "source": [
    "# Find money amounts\n",
    "regex = \"[$€]\\s*[0-9\\.,]+\"\n",
    "matches = re.finditer(regex, text)\n",
    "for match in matches:\n",
    "    print(\"Amount: '{}'.\".format( match.group(0) ))"
   ]
  },
  {
   "cell_type": "code",
   "execution_count": null,
   "metadata": {},
   "outputs": [],
   "source": [
    "# Find dates\n",
    "regex = \"(January|February|November|December)\\s(\\d{1,2})\\s(\\d{2,4})\"\n",
    "\n",
    "matches = re.finditer(regex, text)\n",
    "for match in matches:\n",
    "    print(\"Found date: '{}. {} {}'.\".format( match.group(2), match.group(1), match.group(3) ))"
   ]
  },
  {
   "cell_type": "markdown",
   "metadata": {},
   "source": [
    "### Web extraction using regular expressions\n",
    "\n",
    "Similarly to the above, we read HTML document into a string and search within it using regular expressiona."
   ]
  },
  {
   "cell_type": "code",
   "execution_count": null,
   "metadata": {},
   "outputs": [],
   "source": [
    "# Get the article title\n",
    "regex = r\"<div class=\\\"col-xs-12\\\">\\s+<h1>(.*)<\\/h1>\"\n",
    "\n",
    "match = re.compile(regex).search(pageContent)\n",
    "title = match.group(1)\n",
    "print(\"Found title: '%s'.\" % title)"
   ]
  },
  {
   "cell_type": "code",
   "execution_count": null,
   "metadata": {},
   "outputs": [],
   "source": [
    "# Get the article date\n",
    "regex = r\"<div class=\\\"col-md-6 col-xs-12 date\\\">[\\n\\s]*([0-9]*\\.\\s+[0-9]*\\.\\s+[0-9]*)\"\n",
    "\n",
    "match = re.compile(regex).search(pageContent)\n",
    "date = match.group(1)\n",
    "print(\"Found date: '%s'.\" % date)"
   ]
  },
  {
   "cell_type": "code",
   "execution_count": null,
   "metadata": {},
   "outputs": [],
   "source": [
    "# Extract image URL\n",
    "regex = r\"<img class=\\\"img-responsive\\\".*?src=\\\"(.*)\\\"\"\n",
    "\n",
    "match = re.compile(regex).search(pageContent)\n",
    "imageUrl = match.group(1)\n",
    "print(\"Found imageURL: '%s'.\" % imageUrl)"
   ]
  },
  {
   "cell_type": "code",
   "execution_count": null,
   "metadata": {},
   "outputs": [],
   "source": [
    "# Form and output JSON\n",
    "import json\n",
    "\n",
    "dataItem = {\n",
    "    \"title\": title,\n",
    "    \"date\": date,\n",
    "    \"imageUrl\": imageUrl\n",
    "}\n",
    "\n",
    "print(\"Output object:\\n%s\" % json.dumps(dataItem, indent = 4))"
   ]
  },
  {
   "cell_type": "markdown",
   "metadata": {},
   "source": [
    "## XPath\n",
    "\n",
    "XPath is a language to address and filter elements in XML data. To get familiar with XPath, follow the [W3Schools tutorial](https://www.w3schools.com/xml/xpath_intro.asp) or check a [cheatsheet](https://devhints.io/xpath).\n",
    "\n",
    "### XPath in Python\n",
    "\n",
    "Let's first define a small XML document and retrieve some data items from it."
   ]
  },
  {
   "cell_type": "code",
   "execution_count": null,
   "metadata": {},
   "outputs": [],
   "source": [
    "# Import libraries\n",
    "from lxml import html"
   ]
  },
  {
   "cell_type": "code",
   "execution_count": null,
   "metadata": {},
   "outputs": [],
   "source": [
    "# Define the XML document\n",
    "xmlDocument = \"\"\"\n",
    "          <?xml version=\"1.0\" encoding=\"UTF-8\"?>\n",
    "          \n",
    "          <bookstore>\n",
    "          \n",
    "          <book category=\"cooking\">\n",
    "            <title lang=\"en\">Everyday Italian</title>\n",
    "            <author>Giada De Laurentiis</author>\n",
    "            <year>2005</year>\n",
    "            <price>30.00</price>\n",
    "          </book>\n",
    "          \n",
    "          <book category=\"children\">\n",
    "            <title lang=\"en\">Harry Potter</title>\n",
    "            <author>J K. Rowling</author>\n",
    "            <year>2005</year>\n",
    "            <price>29.99</price>\n",
    "          </book>\n",
    "          \n",
    "          <book category=\"web\">\n",
    "            <title lang=\"en\">XQuery Kick Start</title>\n",
    "            <author>James McGovern</author>\n",
    "            <author>Per Bothner</author>\n",
    "            <author>Kurt Cagle</author>\n",
    "            <author>James Linn</author>\n",
    "            <author>Vaidyanathan Nagarajan</author>\n",
    "            <year>2003</year>\n",
    "            <price>49.99</price>\n",
    "          </book>\n",
    "          \n",
    "          <book category=\"web\">\n",
    "            <title lang=\"en\">Learning XML</title>\n",
    "            <author>Erik T. Ray</author>\n",
    "            <year>2003</year>\n",
    "            <price>39.95</price>\n",
    "          </book>\n",
    "          \n",
    "          </bookstore>\n",
    "\"\"\"\n",
    "\n",
    "# Form an XML tree using lxml library\n",
    "tree = html.fromstring(xmlDocument)"
   ]
  },
  {
   "cell_type": "code",
   "execution_count": null,
   "metadata": {},
   "outputs": [],
   "source": [
    "# Select all titles (the result will be a list of lxml Element objects)\n",
    "tree.xpath('//title')"
   ]
  },
  {
   "cell_type": "code",
   "execution_count": null,
   "metadata": {},
   "outputs": [],
   "source": [
    "# Select the first element from the above query and retrieve text data from it\n",
    "tree.xpath('//title')[0].text"
   ]
  },
  {
   "cell_type": "code",
   "execution_count": null,
   "metadata": {},
   "outputs": [],
   "source": [
    "# Similar to the above but getting title texts directly using XPath\n",
    "tree.xpath('//title/text()')"
   ]
  },
  {
   "cell_type": "code",
   "execution_count": null,
   "metadata": {},
   "outputs": [],
   "source": [
    "# More explicit version of the above\n",
    "tree.xpath('//bookstore/book/title/text()')"
   ]
  },
  {
   "cell_type": "code",
   "execution_count": null,
   "metadata": {},
   "outputs": [],
   "source": [
    "# Select first authors only\n",
    "tree.xpath('//bookstore/book/author[1]/text()')"
   ]
  },
  {
   "cell_type": "code",
   "execution_count": null,
   "metadata": {},
   "outputs": [],
   "source": [
    "# Select titles of english books that are cheaper than 30 EUR\n",
    "tree.xpath('//bookstore/book[price<30]/title[@lang=\"en\"]/text()')"
   ]
  },
  {
   "cell_type": "markdown",
   "metadata": {},
   "source": [
    "### Web extraction using XPath\n",
    "\n",
    "Similarly to the above, we read HTML document as XML and retrieve the needed data."
   ]
  },
  {
   "cell_type": "code",
   "execution_count": null,
   "metadata": {},
   "outputs": [],
   "source": [
    "# Form an XML tree using lxml library\n",
    "tree = html.fromstring(pageContent)"
   ]
  },
  {
   "cell_type": "code",
   "execution_count": null,
   "metadata": {},
   "outputs": [],
   "source": [
    "# Get the article title\n",
    "title = str(tree.xpath('//*[@id=\"container\"]/div//h1/text()')[0])\n",
    "print(\"Found title: '%s'.\" % title)"
   ]
  },
  {
   "cell_type": "code",
   "execution_count": null,
   "metadata": {},
   "outputs": [],
   "source": [
    "# Get the date (cannot handle text directly using XPath)\n",
    "date = str(tree.xpath('//*[@id=\"container\"]/div/div[1]/div[1]/div[2]/div[1]/text()')[0])\n",
    "print(\"Found date: '%s'.\" % date)"
   ]
  },
  {
   "cell_type": "code",
   "execution_count": null,
   "metadata": {},
   "outputs": [],
   "source": [
    "# Additionally format date\n",
    "date = re.sub(r\"\\s\", \"\", date)\n",
    "print(\"Found date: '%s'.\" % date)"
   ]
  },
  {
   "cell_type": "code",
   "execution_count": null,
   "metadata": {},
   "outputs": [],
   "source": [
    "# Extract the image URL\n",
    "imageUrl = str(tree.xpath('//*[@id=\"container\"]/div/div[1]/div[1]/div[1]/div/div[2]/a/img/@src')[0])\n",
    "print(\"Found imageUrl: '%s'.\" % imageUrl)"
   ]
  },
  {
   "cell_type": "code",
   "execution_count": null,
   "metadata": {},
   "outputs": [],
   "source": [
    "# Form and output JSON\n",
    "import json\n",
    "\n",
    "dataItem = {\n",
    "    \"title\": title,\n",
    "    \"date\": date,\n",
    "    \"imageUrl\": imageUrl\n",
    "}\n",
    "\n",
    "print(\"Output object:\\n%s\" % json.dumps(dataItem, indent = 4))"
   ]
  },
  {
   "cell_type": "markdown",
   "metadata": {},
   "source": [
    "**Hint:** Using developer tools in Chrome, we can easily retrieve XPath for a selected HTML element. If you use that feature for the assignment, you need at least understand the result. It would be nice also to shorten it if possible.\n",
    "\n",
    "![Chrome XPath retrieval](XPathHelper.png)"
   ]
  }
 ],
 "metadata": {
  "kernelspec": {
   "display_name": "Python 3",
   "language": "python",
   "name": "python3"
  },
  "language_info": {
   "codemirror_mode": {
    "name": "ipython",
    "version": 3
   },
   "file_extension": ".py",
   "mimetype": "text/x-python",
   "name": "python",
   "nbconvert_exporter": "python",
   "pygments_lexer": "ipython3",
   "version": "3.7.3"
  }
 },
 "nbformat": 4,
 "nbformat_minor": 1
}
